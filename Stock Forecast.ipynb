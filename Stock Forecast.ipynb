{
 "cells": [
  {
   "cell_type": "code",
   "execution_count": 55,
   "metadata": {},
   "outputs": [],
   "source": [
    "import yfinance as yf\n",
    "import pandas as pd\n",
    "import numpy as np\n",
    "from datetime import date\n",
    "import matplotlib.pyplot as plt\n",
    "from dateutil.relativedelta import relativedelta\n",
    "import statsmodels.api as sm\n",
    "import itertools\n",
    "import warnings\n",
    "warnings.filterwarnings(\"ignore\")"
   ]
  },
  {
   "cell_type": "markdown",
   "metadata": {},
   "source": [
    "### Input stock sybol, forecast horizon and years of time series data to import"
   ]
  },
  {
   "cell_type": "code",
   "execution_count": 91,
   "metadata": {},
   "outputs": [],
   "source": [
    "stock=\"TSLA\"\n",
    "Forecast_horizon=10\n",
    "yr_prd=3\n",
    "st=(date.today()- relativedelta(years=yr_prd))\n",
    "St_date=(st-relativedelta(days=st.weekday()))\n",
    "End_date=(date.today()-relativedelta(days=date.today().weekday()))"
   ]
  },
  {
   "cell_type": "code",
   "execution_count": 92,
   "metadata": {},
   "outputs": [
    {
     "name": "stdout",
     "output_type": "stream",
     "text": [
      "[*********************100%***********************]  1 of 1 completed\n"
     ]
    }
   ],
   "source": [
    "data = yf.download(stock, start=St_date, end=date.today())\n",
    "data[\"Date\"]=data.index"
   ]
  },
  {
   "cell_type": "code",
   "execution_count": null,
   "metadata": {
    "scrolled": true
   },
   "outputs": [],
   "source": []
  },
  {
   "cell_type": "code",
   "execution_count": 93,
   "metadata": {},
   "outputs": [],
   "source": [
    "data[\"Week_Number\"]=data[\"Date\"].dt.week\n",
    "data[\"Year\"]=data[\"Date\"].dt.year"
   ]
  },
  {
   "cell_type": "code",
   "execution_count": 94,
   "metadata": {},
   "outputs": [],
   "source": [
    "d2=data[\"Adj Close\"]"
   ]
  },
  {
   "cell_type": "code",
   "execution_count": 95,
   "metadata": {},
   "outputs": [],
   "source": [
    "d2=data.groupby(['Year','Week_Number']).agg({'Adj Close':'mean'})"
   ]
  },
  {
   "cell_type": "code",
   "execution_count": 96,
   "metadata": {},
   "outputs": [],
   "source": [
    "p = d = q = range(0, 2)\n",
    "pdq = list(itertools.product(p, d, q))\n",
    "seasonal_pdq = [(x[0], x[1], x[2], 12) for x in list(itertools.product(p, d, q))]"
   ]
  },
  {
   "cell_type": "code",
   "execution_count": 97,
   "metadata": {},
   "outputs": [
    {
     "name": "stdout",
     "output_type": "stream",
     "text": [
      "ARIMA(0, 0, 0)x(0, 0, 0, 12)12 - AIC:2319.2225064325485\n",
      "ARIMA(0, 0, 0)x(0, 0, 1, 12)12 - AIC:2004.295562470247\n",
      "ARIMA(0, 0, 0)x(0, 1, 0, 12)12 - AIC:1784.0072249402122\n",
      "ARIMA(0, 0, 0)x(0, 1, 1, 12)12 - AIC:1641.6702761575932\n",
      "ARIMA(0, 0, 0)x(1, 0, 0, 12)12 - AIC:1789.1466817754972\n",
      "ARIMA(0, 0, 0)x(1, 0, 1, 12)12 - AIC:1776.857790609272\n",
      "ARIMA(0, 0, 0)x(1, 1, 0, 12)12 - AIC:1652.3316265348785\n",
      "ARIMA(0, 0, 0)x(1, 1, 1, 12)12 - AIC:1642.912726886943\n",
      "ARIMA(0, 0, 1)x(0, 0, 0, 12)12 - AIC:2110.3843301658044\n",
      "ARIMA(0, 0, 1)x(0, 0, 1, 12)12 - AIC:1829.5686316873268\n",
      "ARIMA(0, 0, 1)x(0, 1, 0, 12)12 - AIC:1653.7832919925208\n",
      "ARIMA(0, 0, 1)x(0, 1, 1, 12)12 - AIC:1528.4431035298046\n",
      "ARIMA(0, 0, 1)x(1, 0, 0, 12)12 - AIC:1673.41378461276\n",
      "ARIMA(0, 0, 1)x(1, 0, 1, 12)12 - AIC:1654.4545552315603\n",
      "ARIMA(0, 0, 1)x(1, 1, 0, 12)12 - AIC:1549.913953074411\n",
      "ARIMA(0, 0, 1)x(1, 1, 1, 12)12 - AIC:1530.4427641933885\n",
      "ARIMA(0, 1, 0)x(0, 0, 0, 12)12 - AIC:1567.6193535982648\n",
      "ARIMA(0, 1, 0)x(0, 0, 1, 12)12 - AIC:1458.5817863181405\n",
      "ARIMA(0, 1, 0)x(0, 1, 0, 12)12 - AIC:1527.8781002343605\n",
      "ARIMA(0, 1, 0)x(0, 1, 1, 12)12 - AIC:1360.4966313421578\n",
      "ARIMA(0, 1, 0)x(1, 0, 0, 12)12 - AIC:1467.7154361159269\n",
      "ARIMA(0, 1, 0)x(1, 0, 1, 12)12 - AIC:1460.5688818429007\n",
      "ARIMA(0, 1, 0)x(1, 1, 0, 12)12 - AIC:1367.2448414934524\n",
      "ARIMA(0, 1, 0)x(1, 1, 1, 12)12 - AIC:1357.2063754313072\n",
      "ARIMA(0, 1, 1)x(0, 0, 0, 12)12 - AIC:1558.3215876483189\n",
      "ARIMA(0, 1, 1)x(0, 0, 1, 12)12 - AIC:1449.4699912582232\n",
      "ARIMA(0, 1, 1)x(0, 1, 0, 12)12 - AIC:1519.6156112671947\n",
      "ARIMA(0, 1, 1)x(0, 1, 1, 12)12 - AIC:1351.6106864572073\n",
      "ARIMA(0, 1, 1)x(1, 0, 0, 12)12 - AIC:1467.7174575423014\n",
      "ARIMA(0, 1, 1)x(1, 0, 1, 12)12 - AIC:1451.45714485177\n",
      "ARIMA(0, 1, 1)x(1, 1, 0, 12)12 - AIC:1367.679449804586\n",
      "ARIMA(0, 1, 1)x(1, 1, 1, 12)12 - AIC:1347.9752580229388\n",
      "ARIMA(1, 0, 0)x(0, 0, 0, 12)12 - AIC:1577.1339538626053\n",
      "ARIMA(1, 0, 0)x(0, 0, 1, 12)12 - AIC:1468.414088207344\n",
      "ARIMA(1, 0, 0)x(0, 1, 0, 12)12 - AIC:1535.558048915477\n",
      "ARIMA(1, 0, 0)x(0, 1, 1, 12)12 - AIC:1371.8723452639679\n",
      "ARIMA(1, 0, 0)x(1, 0, 0, 12)12 - AIC:1467.8719908337016\n",
      "ARIMA(1, 0, 0)x(1, 0, 1, 12)12 - AIC:1469.8118048343053\n",
      "ARIMA(1, 0, 0)x(1, 1, 0, 12)12 - AIC:1369.2360731419253\n",
      "ARIMA(1, 0, 0)x(1, 1, 1, 12)12 - AIC:1368.45024202408\n",
      "ARIMA(1, 0, 1)x(0, 0, 0, 12)12 - AIC:1568.2563326375575\n",
      "ARIMA(1, 0, 1)x(0, 0, 1, 12)12 - AIC:1460.028790512996\n",
      "ARIMA(1, 0, 1)x(0, 1, 0, 12)12 - AIC:1526.8011325511716\n",
      "ARIMA(1, 0, 1)x(0, 1, 1, 12)12 - AIC:1363.0534100883353\n",
      "ARIMA(1, 0, 1)x(1, 0, 0, 12)12 - AIC:1468.295872979077\n",
      "ARIMA(1, 0, 1)x(1, 0, 1, 12)12 - AIC:1461.1578152621275\n",
      "ARIMA(1, 0, 1)x(1, 1, 0, 12)12 - AIC:1369.5808048412878\n",
      "ARIMA(1, 0, 1)x(1, 1, 1, 12)12 - AIC:1359.2631234697208\n",
      "ARIMA(1, 1, 0)x(0, 0, 0, 12)12 - AIC:1566.427308467552\n",
      "ARIMA(1, 1, 0)x(0, 0, 1, 12)12 - AIC:1457.5386138553731\n",
      "ARIMA(1, 1, 0)x(0, 1, 0, 12)12 - AIC:1529.1690274304383\n",
      "ARIMA(1, 1, 0)x(0, 1, 1, 12)12 - AIC:1360.3271933090919\n",
      "ARIMA(1, 1, 0)x(1, 0, 0, 12)12 - AIC:1457.5727480265832\n",
      "ARIMA(1, 1, 0)x(1, 0, 1, 12)12 - AIC:1459.532020269235\n",
      "ARIMA(1, 1, 0)x(1, 1, 0, 12)12 - AIC:1357.7771125762565\n",
      "ARIMA(1, 1, 0)x(1, 1, 1, 12)12 - AIC:1356.5486226248015\n",
      "ARIMA(1, 1, 1)x(0, 0, 0, 12)12 - AIC:1556.614188162318\n",
      "ARIMA(1, 1, 1)x(0, 0, 1, 12)12 - AIC:1447.5449575261296\n",
      "ARIMA(1, 1, 1)x(0, 1, 0, 12)12 - AIC:1520.773566659393\n",
      "ARIMA(1, 1, 1)x(0, 1, 1, 12)12 - AIC:1351.2285351364899\n",
      "ARIMA(1, 1, 1)x(1, 0, 0, 12)12 - AIC:1456.7182646154965\n",
      "ARIMA(1, 1, 1)x(1, 0, 1, 12)12 - AIC:1449.544669327605\n",
      "ARIMA(1, 1, 1)x(1, 1, 0, 12)12 - AIC:1358.70489478622\n",
      "ARIMA(1, 1, 1)x(1, 1, 1, 12)12 - AIC:1347.5190755456406\n"
     ]
    }
   ],
   "source": [
    "for param in pdq:\n",
    "    for param_seasonal in seasonal_pdq:\n",
    "        try:\n",
    "            mod = sm.tsa.statespace.SARIMAX(d2,\n",
    "                                            order=param,\n",
    "                                            seasonal_order=param_seasonal,\n",
    "                                            enforce_stationarity=False,\n",
    "                                            enforce_invertibility=False)\n",
    "            results = mod.fit()\n",
    "\n",
    "            print('ARIMA{}x{}12 - AIC:{}'.format(param, param_seasonal, results.aic))\n",
    "        except:\n",
    "                    continue"
   ]
  },
  {
   "cell_type": "code",
   "execution_count": 98,
   "metadata": {},
   "outputs": [
    {
     "name": "stdout",
     "output_type": "stream",
     "text": [
      "ARIMA(0, 0, 0)x(0, 0, 0, 12)12 - AIC:2141.9723355546053\n",
      "ARIMA(0, 0, 0)x(0, 0, 1, 12)12 - AIC:1854.7578850047703\n",
      "ARIMA(0, 0, 0)x(0, 1, 0, 12)12 - AIC:1659.9215388676998\n",
      "ARIMA(0, 0, 0)x(0, 1, 1, 12)12 - AIC:1515.6515286590625\n",
      "ARIMA(0, 0, 0)x(1, 0, 0, 12)12 - AIC:1667.4595936589656\n",
      "ARIMA(0, 0, 0)x(1, 0, 1, 12)12 - AIC:1649.6405343120296\n",
      "ARIMA(0, 0, 0)x(1, 1, 0, 12)12 - AIC:1520.037937733743\n",
      "ARIMA(0, 0, 0)x(1, 1, 1, 12)12 - AIC:1510.6309805223827\n",
      "ARIMA(0, 0, 1)x(0, 0, 0, 12)12 - AIC:1941.4625310209626\n",
      "ARIMA(0, 0, 1)x(0, 0, 1, 12)12 - AIC:1681.6182261446465\n",
      "ARIMA(0, 0, 1)x(0, 1, 0, 12)12 - AIC:1518.933820086376\n",
      "ARIMA(0, 0, 1)x(0, 1, 1, 12)12 - AIC:1390.5319113649864\n",
      "ARIMA(0, 0, 1)x(1, 0, 0, 12)12 - AIC:1538.2655955617402\n",
      "ARIMA(0, 0, 1)x(1, 0, 1, 12)12 - AIC:1515.5969878208973\n",
      "ARIMA(0, 0, 1)x(1, 1, 0, 12)12 - AIC:1410.0647536766774\n",
      "ARIMA(0, 0, 1)x(1, 1, 1, 12)12 - AIC:1390.4449758545425\n",
      "ARIMA(0, 1, 0)x(0, 0, 0, 12)12 - AIC:1444.8890436551615\n",
      "ARIMA(0, 1, 0)x(0, 0, 1, 12)12 - AIC:1332.0340796054197\n",
      "ARIMA(0, 1, 0)x(0, 1, 0, 12)12 - AIC:1377.8134167436688\n",
      "ARIMA(0, 1, 0)x(0, 1, 1, 12)12 - AIC:1243.8505398607483\n",
      "ARIMA(0, 1, 0)x(1, 0, 0, 12)12 - AIC:1343.2290193745703\n",
      "ARIMA(0, 1, 0)x(1, 0, 1, 12)12 - AIC:1333.9320461865632\n",
      "ARIMA(0, 1, 0)x(1, 1, 0, 12)12 - AIC:1257.5107544256864\n",
      "ARIMA(0, 1, 0)x(1, 1, 1, 12)12 - AIC:1245.8785229972682\n",
      "ARIMA(0, 1, 1)x(0, 0, 0, 12)12 - AIC:1436.3180732963056\n",
      "ARIMA(0, 1, 1)x(0, 0, 1, 12)12 - AIC:1324.04837992492\n",
      "ARIMA(0, 1, 1)x(0, 1, 0, 12)12 - AIC:1367.8344890844828\n",
      "ARIMA(0, 1, 1)x(0, 1, 1, 12)12 - AIC:1234.9812061082755\n",
      "ARIMA(0, 1, 1)x(1, 0, 0, 12)12 - AIC:1343.9174991526365\n",
      "ARIMA(0, 1, 1)x(1, 0, 1, 12)12 - AIC:1326.0068147309735\n",
      "ARIMA(0, 1, 1)x(1, 1, 0, 12)12 - AIC:1257.4428317025488\n",
      "ARIMA(0, 1, 1)x(1, 1, 1, 12)12 - AIC:1236.6193182720988\n",
      "ARIMA(1, 0, 0)x(0, 0, 0, 12)12 - AIC:1456.0536088322751\n",
      "ARIMA(1, 0, 0)x(0, 0, 1, 12)12 - AIC:1343.0959645359915\n",
      "ARIMA(1, 0, 0)x(0, 1, 0, 12)12 - AIC:1384.8041652926656\n",
      "ARIMA(1, 0, 0)x(0, 1, 1, 12)12 - AIC:1253.3243599333034\n",
      "ARIMA(1, 0, 0)x(1, 0, 0, 12)12 - AIC:1345.212472854725\n",
      "ARIMA(1, 0, 0)x(1, 0, 1, 12)12 - AIC:1344.9984730735282\n",
      "ARIMA(1, 0, 0)x(1, 1, 0, 12)12 - AIC:1257.646125188059\n",
      "ARIMA(1, 0, 0)x(1, 1, 1, 12)12 - AIC:1255.290679377761\n",
      "ARIMA(1, 0, 1)x(0, 0, 0, 12)12 - AIC:1447.3742663881676\n",
      "ARIMA(1, 0, 1)x(0, 0, 1, 12)12 - AIC:1335.1504005957277\n",
      "ARIMA(1, 0, 1)x(0, 1, 0, 12)12 - AIC:1373.8303993578365\n",
      "ARIMA(1, 0, 1)x(0, 1, 1, 12)12 - AIC:1243.9447641651268\n",
      "ARIMA(1, 0, 1)x(1, 0, 0, 12)12 - AIC:1345.912236100774\n",
      "ARIMA(1, 0, 1)x(1, 0, 1, 12)12 - AIC:1337.146159150165\n",
      "ARIMA(1, 0, 1)x(1, 1, 0, 12)12 - AIC:1257.0544025239233\n",
      "ARIMA(1, 0, 1)x(1, 1, 1, 12)12 - AIC:1245.916321442321\n",
      "ARIMA(1, 1, 0)x(0, 0, 0, 12)12 - AIC:1444.6882374301554\n",
      "ARIMA(1, 1, 0)x(0, 0, 1, 12)12 - AIC:1332.4686100550648\n",
      "ARIMA(1, 1, 0)x(0, 1, 0, 12)12 - AIC:1376.7863438035724\n",
      "ARIMA(1, 1, 0)x(0, 1, 1, 12)12 - AIC:1243.6081266195622\n",
      "ARIMA(1, 1, 0)x(1, 0, 0, 12)12 - AIC:1334.2679148427715\n",
      "ARIMA(1, 1, 0)x(1, 0, 1, 12)12 - AIC:1334.4632763401937\n",
      "ARIMA(1, 1, 0)x(1, 1, 0, 12)12 - AIC:1247.5214721411958\n",
      "ARIMA(1, 1, 0)x(1, 1, 1, 12)12 - AIC:1245.2235931861069\n",
      "ARIMA(1, 1, 1)x(0, 0, 0, 12)12 - AIC:1436.0469733624702\n",
      "ARIMA(1, 1, 1)x(0, 0, 1, 12)12 - AIC:1323.2706354079796\n",
      "ARIMA(1, 1, 1)x(0, 1, 0, 12)12 - AIC:1369.0688407271323\n",
      "ARIMA(1, 1, 1)x(0, 1, 1, 12)12 - AIC:1235.0770720919036\n",
      "ARIMA(1, 1, 1)x(1, 0, 0, 12)12 - AIC:1334.3390571367063\n",
      "ARIMA(1, 1, 1)x(1, 0, 1, 12)12 - AIC:1325.263230243018\n",
      "ARIMA(1, 1, 1)x(1, 1, 0, 12)12 - AIC:1248.7871268398721\n",
      "ARIMA(1, 1, 1)x(1, 1, 1, 12)12 - AIC:1236.427846586968\n"
     ]
    }
   ],
   "source": [
    "min_aic = 999999999\n",
    "for param in pdq:\n",
    "    for param_seasonal in seasonal_pdq:\n",
    "        try:\n",
    "            mod = sm.tsa.statespace.SARIMAX(test,\n",
    "                                            order=param,\n",
    "                                            seasonal_order=param_seasonal,\n",
    "                                            enforce_stationarity=False,\n",
    "                                            enforce_invertibility=False)\n",
    "            \n",
    "            results = mod.fit()\n",
    "            print('ARIMA{}x{}12 - AIC:{}'.format(param, param_seasonal, results.aic))\n",
    "            \n",
    "            #Check for best model with lowest AIC\n",
    "            if results.aic < min_aic:\n",
    "                min_aic = results.aic\n",
    "                min_aic_model = results\n",
    "        except:\n",
    "            continue"
   ]
  },
  {
   "cell_type": "code",
   "execution_count": 99,
   "metadata": {},
   "outputs": [
    {
     "data": {
      "text/plain": [
       "148    524.687043\n",
       "149    537.234073\n",
       "150    551.029596\n",
       "151    558.745986\n",
       "152    605.536447\n",
       "153    604.530319\n",
       "154    629.385557\n",
       "155    597.906909\n",
       "156    596.481809\n",
       "157    571.568741\n",
       "dtype: float64"
      ]
     },
     "execution_count": 99,
     "metadata": {},
     "output_type": "execute_result"
    }
   ],
   "source": [
    "min_aic_model.forecast(Forecast_horizon)"
   ]
  }
 ],
 "metadata": {
  "kernelspec": {
   "display_name": "Python 3",
   "language": "python",
   "name": "python3"
  },
  "language_info": {
   "codemirror_mode": {
    "name": "ipython",
    "version": 3
   },
   "file_extension": ".py",
   "mimetype": "text/x-python",
   "name": "python",
   "nbconvert_exporter": "python",
   "pygments_lexer": "ipython3",
   "version": "3.7.1"
  }
 },
 "nbformat": 4,
 "nbformat_minor": 2
}
